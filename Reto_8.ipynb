{
 "cells": [
  {
   "cell_type": "markdown",
   "metadata": {},
   "source": [
    "### Reto 8\n",
    "Nombre: Dania Lorena Pérez Moreno"
   ]
  },
  {
   "cell_type": "markdown",
   "metadata": {},
   "source": [
    "#### Primer punto\n",
    "Imprimir un listado con los números del 1 al 100 cada uno con su respectivo cuadrado."
   ]
  },
  {
   "cell_type": "code",
   "execution_count": null,
   "metadata": {},
   "outputs": [],
   "source": [
    "#Implementa el ciclo for\n",
    "#Se pone un rango del 1 hasta el 101 para que se implima la lista solicitada\n",
    "for i in range(1, 101):\n",
    "  #El ciclo se repite y en cada iteracion i aumenta y se multiplica por si mismo\n",
    "  cuadrado : int = i*i\n",
    "  print (f\"EL cuadrado de {i} es {cuadrado}\")"
   ]
  },
  {
   "cell_type": "markdown",
   "metadata": {},
   "source": [
    "#### Segundo punto\n",
    "Imprimir un listado con los números impares desde 1 hasta 999 y seguidamente otro listado con los números pares desde 2 hasta 1000."
   ]
  },
  {
   "cell_type": "code",
   "execution_count": null,
   "metadata": {},
   "outputs": [],
   "source": [
    "#Se imprime el titulo de la lista\n",
    "print (\"lista numeros impares:\")\n",
    "#Se implementa el bucle for y se inializa en 1 hasta 1000 aumentando en 2 \n",
    "for i in range(1, 1000, 2): print(i)\n",
    "print (\"La lista de numeros pares es: \")\n",
    "#Se implementa el bucle for y se inializa en 0 hasta 1001 aumentando en 2 \n",
    "for i in range(2, 1001, 2): print(i)"
   ]
  },
  {
   "cell_type": "markdown",
   "metadata": {},
   "source": [
    "#### Tercer punto\n",
    "Imprimir los números pares en forma descendente hasta 2 que son menores o iguales a un número natural n ≥ 2 dado"
   ]
  },
  {
   "cell_type": "code",
   "execution_count": null,
   "metadata": {},
   "outputs": [],
   "source": [
    "#Se declara el tipo de variable a utilizar\n",
    "num : int\n",
    "#Se ingresa el valor de la variable por teclado\n",
    "num = int( input (\"Ingrese un numero\"))\n",
    "#Con if se verificar si el numero es par o no\n",
    "if (num % 2 != 0):\n",
    "    #Si es impar se le resta 1 a la cantidad y num toma un numero valor\n",
    "    num = num-1\n",
    "#Cuando num cumple que es par se incializa el ciclo con el valor de num hasta llega a 1 dismunuyendo su valor en i\n",
    "for i in range(num, 1, -2): \n",
    "    #Imprime cada iteracion\n",
    "    print(i)"
   ]
  },
  {
   "cell_type": "markdown",
   "metadata": {},
   "source": [
    "#### Cuarto punto\n",
    "Imprimir los números de 1 hasta un número natural n dado, cada uno con su respectivo factorial"
   ]
  },
  {
   "cell_type": "code",
   "execution_count": null,
   "metadata": {},
   "outputs": [],
   "source": [
    "#Se inicia con declara e inicializar algunas variables\n",
    "num : int; factorial : int = 1\n",
    "#Se ingresa por teclado el valor\n",
    "num = int( input (\"Ingrese hasta que numero desea realizar el factorial\"))\n",
    "#Se incializa el ciclo for, el cual va desde 1 hasta en numer ingresado +1\n",
    "for i in range(1, num+1): \n",
    "    #Según la logica del factorial es el producto del un numero por todos los anteriores\n",
    "    factorial = factorial * i\n",
    "    #Luego de cada iteracion el valor de factorial va cambiando su valor\n",
    "    print (f\"El factorial de {i} es {factorial}\")\n",
    " "
   ]
  },
  {
   "cell_type": "markdown",
   "metadata": {},
   "source": [
    "\n",
    "#### Quinto punto\n",
    "Calcular el valor de 2 elevado a la potencia n usando ciclos for."
   ]
  },
  {
   "cell_type": "code",
   "execution_count": 17,
   "metadata": {},
   "outputs": [
    {
     "name": "stdout",
     "output_type": "stream",
     "text": [
      "La potencia de 2 elevado a 32 es 4294967296\n"
     ]
    }
   ],
   "source": [
    "#Se declara e incializan algunas de las variable a utilizar\n",
    "num : int; potencia : int = 1\n",
    "num = int (input(\"Ingrese a el numero de la potencia del 2: \"))\n",
    "#Se implementa el bucle for\n",
    "for i in range (1, num+1):\n",
    "    #En cada iteracion se multiplica el valor de potencia por 2 (la base de la potencia) hasta llegar al numero de exponente \n",
    "    potencia *= 2 \n",
    "print (f\"La potencia de 2 elevado a {num} es {potencia}\")"
   ]
  },
  {
   "cell_type": "markdown",
   "metadata": {},
   "source": [
    "#### Sexto punto\n",
    "Leer un número natural n, leer otro dato de tipo real x y calcular x^n usando ciclos for."
   ]
  },
  {
   "cell_type": "code",
   "execution_count": 26,
   "metadata": {},
   "outputs": [
    {
     "name": "stdout",
     "output_type": "stream",
     "text": [
      "La potencia de 3.0 elevado a 5 es 243.0\n"
     ]
    }
   ],
   "source": [
    "#Se declaran e inicializan las variables\n",
    "num_1 : int; num_2 : float ; potencia : float = 1\n",
    "#Se ingresan las variables por teclado\n",
    "num_1 = int(input (\"Ingrese un numero natural: \"))\n",
    "num_2 = float (input(\"Ingrese un numero real: \"))\n",
    "# se implementa en ciclo for, el cual se va a ejecutar de uno hasta que llegue a numero de la potencia deseada\n",
    "for i in range (1, num_1+1):\n",
    "#En cada iteracion se multiplica el valor de la base por la misma hasta llegar al numero de exponente \n",
    "    potencia *= num_2\n",
    "\n",
    "#Se imprime los resultados\n",
    "print (f\"La potencia de {num_2} elevado a {num_1} es {potencia}\")"
   ]
  },
  {
   "cell_type": "markdown",
   "metadata": {},
   "source": [
    "#### Septimo punto\n",
    "Diseñe un programa que muestre las tablas de multiplicar del 1 al 9."
   ]
  },
  {
   "cell_type": "code",
   "execution_count": 27,
   "metadata": {},
   "outputs": [
    {
     "name": "stdout",
     "output_type": "stream",
     "text": [
      "Tabla del 1\n",
      "1 x 1 es: 1\n",
      "1 x 2 es: 2\n",
      "1 x 3 es: 3\n",
      "1 x 4 es: 4\n",
      "1 x 5 es: 5\n",
      "1 x 6 es: 6\n",
      "1 x 7 es: 7\n",
      "1 x 8 es: 8\n",
      "1 x 9 es: 9\n",
      "1 x 10 es: 10\n",
      "\n",
      "Tabla del 2\n",
      "2 x 1 es: 2\n",
      "2 x 2 es: 4\n",
      "2 x 3 es: 6\n",
      "2 x 4 es: 8\n",
      "2 x 5 es: 10\n",
      "2 x 6 es: 12\n",
      "2 x 7 es: 14\n",
      "2 x 8 es: 16\n",
      "2 x 9 es: 18\n",
      "2 x 10 es: 20\n",
      "\n",
      "Tabla del 3\n",
      "3 x 1 es: 3\n",
      "3 x 2 es: 6\n",
      "3 x 3 es: 9\n",
      "3 x 4 es: 12\n",
      "3 x 5 es: 15\n",
      "3 x 6 es: 18\n",
      "3 x 7 es: 21\n",
      "3 x 8 es: 24\n",
      "3 x 9 es: 27\n",
      "3 x 10 es: 30\n",
      "\n",
      "Tabla del 4\n",
      "4 x 1 es: 4\n",
      "4 x 2 es: 8\n",
      "4 x 3 es: 12\n",
      "4 x 4 es: 16\n",
      "4 x 5 es: 20\n",
      "4 x 6 es: 24\n",
      "4 x 7 es: 28\n",
      "4 x 8 es: 32\n",
      "4 x 9 es: 36\n",
      "4 x 10 es: 40\n",
      "\n",
      "Tabla del 5\n",
      "5 x 1 es: 5\n",
      "5 x 2 es: 10\n",
      "5 x 3 es: 15\n",
      "5 x 4 es: 20\n",
      "5 x 5 es: 25\n",
      "5 x 6 es: 30\n",
      "5 x 7 es: 35\n",
      "5 x 8 es: 40\n",
      "5 x 9 es: 45\n",
      "5 x 10 es: 50\n",
      "\n",
      "Tabla del 6\n",
      "6 x 1 es: 6\n",
      "6 x 2 es: 12\n",
      "6 x 3 es: 18\n",
      "6 x 4 es: 24\n",
      "6 x 5 es: 30\n",
      "6 x 6 es: 36\n",
      "6 x 7 es: 42\n",
      "6 x 8 es: 48\n",
      "6 x 9 es: 54\n",
      "6 x 10 es: 60\n",
      "\n",
      "Tabla del 7\n",
      "7 x 1 es: 7\n",
      "7 x 2 es: 14\n",
      "7 x 3 es: 21\n",
      "7 x 4 es: 28\n",
      "7 x 5 es: 35\n",
      "7 x 6 es: 42\n",
      "7 x 7 es: 49\n",
      "7 x 8 es: 56\n",
      "7 x 9 es: 63\n",
      "7 x 10 es: 70\n",
      "\n",
      "Tabla del 8\n",
      "8 x 1 es: 8\n",
      "8 x 2 es: 16\n",
      "8 x 3 es: 24\n",
      "8 x 4 es: 32\n",
      "8 x 5 es: 40\n",
      "8 x 6 es: 48\n",
      "8 x 7 es: 56\n",
      "8 x 8 es: 64\n",
      "8 x 9 es: 72\n",
      "8 x 10 es: 80\n",
      "\n",
      "Tabla del 9\n",
      "9 x 1 es: 9\n",
      "9 x 2 es: 18\n",
      "9 x 3 es: 27\n",
      "9 x 4 es: 36\n",
      "9 x 5 es: 45\n",
      "9 x 6 es: 54\n",
      "9 x 7 es: 63\n",
      "9 x 8 es: 72\n",
      "9 x 9 es: 81\n",
      "9 x 10 es: 90\n",
      "\n"
     ]
    }
   ],
   "source": [
    "#Se declara e inicializa la variable tabla, la cual va a almacenar los valores\n",
    "tabla : int = 1\n",
    "#El ciclo for va desde 1 hasta 9 aumentado en 1\n",
    "#En este ciclo for \"i\" va a variar el numero del multiplicador\n",
    "for i in range (1 , 10, 1):\n",
    "    #Se imprime un titulo de la tabla que se esta ejecutando\n",
    "    print(\"Tabla del \" + str(i))\n",
    "    #Este ciclo for, recorre los valores del multiplicando de cada table\n",
    "    #Estan en un rango de (1, 11) y va a mostar las multiplicaciones de 1 hasta 10\n",
    "    for j in range (1, 11):\n",
    "        #Se realiza la multiplicacion de cada tabla\n",
    "        tabla = i*j\n",
    "        #Se imprime las tablas\n",
    "        print (f\"{i} x {j} es: {tabla}\")\n",
    "    #Se deja un espacio entre cada una   \n",
    "    print()\n",
    "    "
   ]
  },
  {
   "cell_type": "markdown",
   "metadata": {},
   "source": [
    "#### Octavo punto\n",
    "Diseñar una función que permita calcular una aproximación de la función exponencial alrededor de 0 para cualquier valor x (real), utilizando los primeros n términos de la serie de Maclaurin. Nota: use math para traer la función exponencial y mostrar la diferencia entre el valor real y la aproximación."
   ]
  },
  {
   "cell_type": "code",
   "execution_count": null,
   "metadata": {},
   "outputs": [],
   "source": [
    "#Se importa la libreria de math\n",
    "from math import *\n",
    "#Se realiza la funcion que evaluara la aproximacion de la serie de Maclaurin\n",
    "def aproximacion_exponencial (x: float, num: int)-> float:\n",
    "    #Se declaran e inicializa las variables locales a utilizar\n",
    "    sumatoria : float = 0\n",
    "    #Se implementar el ciclo for para realizar la sumatoria\n",
    "    for i in range(num+1):\n",
    "        #Se utiliza una funcion externa para calcular el factorial en la expresion \n",
    "        factoria = factorial (i)\n",
    "        #En cada iteracion se va sumando el valor de cada iteración\n",
    "        sumatoria += (x**i)/factoria\n",
    "    #Se calcula el valor real \n",
    "    valor_real : float = exp(x)\n",
    "    #Se calcula la diferencia entre el valor real y la sumatoria / su valor aproximado\n",
    "    dif  : float = valor_real - sumatoria\n",
    "    #Retorna los valores que se utilizaran en la funcion principal\n",
    "    return sumatoria, dif\n",
    "\n",
    "#Se crea una funcion para calcular el factorial de un numero \n",
    "def factorial (i: int)->float:\n",
    "    factorial : int = 1\n",
    "    #Se incializa el ciclo for, el cual va desde 1 hasta en numer ingresado +1\n",
    "    for j in range(1, i+1): \n",
    "        #Según la logica del factorial es el producto del un numero por todos los anteriores\n",
    "        factorial = factorial * j\n",
    "        #Se va dismunuyendo el numero de \"i\" para que vaya cambiando el valor de en la iteracion de for en la funcion aproximacion_exponencial\n",
    "        i -=1\n",
    "    return factorial\n",
    "\n",
    "#Se implementa la funcion para calcular el numero de terminos para que el porcentaje de error entrela aproximacion y el valor real sea menor de 0.1%\n",
    "def error (x)-> int:\n",
    "    #Se declaran e inicializar las variables\n",
    "    num_terminos : int = 0\n",
    "    valor_error : float = 0.001 * exp(x)\n",
    "    #El ciclo while se repite siempre que sea verdadero\n",
    "    while True:\n",
    "        #Se inicizan variables siendo igual a las retornadas por la funcion \n",
    "        sumatoria, dif = aproximacion_exponencial (x,num_terminos) \n",
    "        # Si la diferencia es menor al valor del error se va a ir sumando el numero de terminos necesarios para cumplir con el porcentaje\n",
    "        if dif < valor_error:  \n",
    "            #Si esta condicion se cumple se para el ciclo while\n",
    "            break\n",
    "        #Si es la diferencia es mayor al valor de error se aumenta 1 en el numeros de terminos \n",
    "        num_terminos +=1\n",
    "    return num_terminos\n",
    "\n",
    "#Funcion principal\n",
    "if __name__ == \"__main__\":\n",
    "    #Se ingresan los valores por teclado\n",
    "    x = float (input(\"Ingrese un valor real: \"))\n",
    "    num = int (input(\"Ingrese un numero de terminos hasta donde quiere que vaya la serie: \"))\n",
    "    #Se inicizan variables siendo igual a las retornadas por la funcion\n",
    "    #Se ejecutan las funciones de acuerdo a los valores ingresados por consola\n",
    "    sumatoria, dif= aproximacion_exponencial (x,num)\n",
    "    num_termino = error (x)\n",
    "    print (f\"La aproximacion de la funcion exponencial es: {sumatoria}\")\n",
    "    print (f\"El valor real es: {exp(x)}\")\n",
    "    print(f\"La diferencia entre el valor real y la aproximacion es: {dif}\")\n",
    "    print(f\"Se necesitan {num_termino} para que el porcentaje sera menos al 0.1%\")"
   ]
  },
  {
   "cell_type": "markdown",
   "metadata": {},
   "source": [
    "#### Noveno punto\n",
    "Diseñar una función que permita calcular una aproximación de la función seno alrededor de 0 para cualquier valor x (real), utilizando los primeros n términos de la serie de Maclaurin. Nota: use math para traer la función seno y mostrar la diferencia entre el valor real y la aproximación."
   ]
  },
  {
   "cell_type": "code",
   "execution_count": null,
   "metadata": {},
   "outputs": [],
   "source": [
    "#Se importa la libreria de math\n",
    "from math import *\n",
    "\n",
    "#Se realiza la funcion que evaluara la aproximacion de la serie de Maclaurin\n",
    "def serie_maclaurin (x: float, num:int)->float:\n",
    "    #Se declaran e inicializa las variables locales a utilizar\n",
    "    sumatoria : int =0\n",
    "    #Se implementar el ciclo for para realizar la sumatoria\n",
    "    for i in range (num+1):\n",
    "         #Se utiliza una funcion externa para calcular el factorial en la expresion\n",
    "        factoria : float = exp_factorial(i)\n",
    "        #En cada iteracion se va sumando el valor de cada iteración\n",
    "        sumatoria += ((-1)**i)*(x**(2*i+1))/factoria\n",
    "    #Se calcula el valor real  y la diferencia\n",
    "    valor_real :float = sin (x)\n",
    "    diferencia :float = valor_real - sumatoria\n",
    "     #Retorna los valores que se utilizaran en la funcion principal\n",
    "    return sumatoria, diferencia \n",
    "\n",
    "#Se crea una funcion para calcular el factorial basico\n",
    "def base_factorial (i)->float:\n",
    "    factorial = 1\n",
    "    for j in range(1, i+1):\n",
    "        factorial *= j\n",
    "    return factorial\n",
    "\n",
    "#Se crea una funcion para calcular el factorial utilizandolo a una expresion \n",
    "def exp_factorial (num)->float:\n",
    "    expresion  = 2 * num + 1\n",
    "     #Se utiliza una funcion externa para calcular el factorial de la expresion\n",
    "    exp_factoria = base_factorial (expresion)\n",
    "    #print (f\"El factorial de {num} es en la expresion {expresion} y su valor es : {exp_factoria}\")\n",
    "    return exp_factoria\n",
    "\n",
    "def error (x)-> int:\n",
    "    num_terminos : int = 0\n",
    "    valor_error = 0.001 * sin(x)\n",
    "    while True:\n",
    "        sumatoria, diferencia = serie_maclaurin (x,num_terminos) \n",
    "        if diferencia < valor_error:  \n",
    "            break\n",
    "        num_terminos +=1\n",
    "    return num_terminos\n",
    "\n",
    "#Funcion principal\n",
    "if __name__ == \"__main__\":\n",
    "    #Se ingresan los valores por teclado\n",
    "    x = float (input(\"Ingrese un valor real: \"))\n",
    "    num = int (input(\"Ingrese un numero de terminos hasta donde quiere que vaya la serie: \"))\n",
    "    #Se inicizan variables siendo igual a las retornadas por la funcion\n",
    "    #Se ejecutan las funciones de acuerdo a los valores ingresados por consola\n",
    "    sumatoria, diferencia = serie_maclaurin (x,num)\n",
    "    num_terminos = error (x)\n",
    "    #Se imprimen los valores necesarios\n",
    "    print (f\"La aproximacion de la funcion del seno es: {sumatoria}\")\n",
    "    print (f\"El valor real es: {sin(x)}\")\n",
    "    print(f\"La diferencia entre el valor real y la aproximacion es: {diferencia}\")\n",
    "    print(f\"Se necesitan {num_terminos} para que el porcentaje sera menos al 0.1%\")\n",
    "    "
   ]
  },
  {
   "cell_type": "markdown",
   "metadata": {},
   "source": [
    "#### Décimo punto\n",
    "Diseñar una función que permita calcular una aproximación de la función arcotangente alrededor de 0 para cualquier valor x en el rango [-1, 1], utilizando los primeros n términos de la serie de Maclaurin. Nota: use math para traer la función arctan y mostrar la diferencia entre el valor real y la aproximación."
   ]
  },
  {
   "cell_type": "code",
   "execution_count": null,
   "metadata": {},
   "outputs": [],
   "source": [
    "#Se importa la libreria de math\n",
    "from math import *\n",
    "\n",
    "#Se realiza la funcion que evaluara la aproximacion de la serie de Maclaurin\n",
    "def serie_maclaurin (x: float, num: int)-> float:\n",
    "    #Se evalua si el numero ingresado cumple con el rango establecido\n",
    "    if (x>= -1 and x<=1):\n",
    "        #Se declaran e inicializa las variables locales a utilizar\n",
    "        sumatoria : int = 0\n",
    "        #Se implementar el ciclo for para realizar la sumatoria\n",
    "        for i in range (num+1):\n",
    "            expresion : float = 2*i+1\n",
    "            #En cada iteracion se va sumando el valor de cada iteración\n",
    "            sumatoria += ((-1)**i)*(x**expresion) / expresion\n",
    "        #print (f\"LA SUMATORIA ES {sumatoria}\")\n",
    "        #Se calcula el valor real  y la diferencia\n",
    "        valor_real = atan(x)\n",
    "        diferencia : float = valor_real - sumatoria\n",
    "         #Retorna los valores que se utilizaran en la funcion principal\n",
    "        return sumatoria, diferencia\n",
    "    #Si el numero esta fuera del rango establecido se muestra el siguiente mensaje\n",
    "    else :\n",
    "        print (\"ERORR, Debe ingresar un valor entre [-1, 1]\")\n",
    "\n",
    "#Se implementa la funcion para calcular el numero de terminos para que el porcentaje de error entrela aproximacion y el valor real sea menor de 0.1%\n",
    "def error (x)-> int:\n",
    "    #Se declaran e inicializar las variables\n",
    "    num_terminos : int = 0\n",
    "    valor_error = 0.001 * atan(x)\n",
    "    #El ciclo while se repite siempre que sea verdader\n",
    "    while True:\n",
    "        #Se inicizan variables siendo igual a las retornadas por la funcion \n",
    "        sumatoria, diferencia = serie_maclaurin (x,num_terminos) \n",
    "        # Si la diferencia es menor al valor del error se va a ir sumando el numero de terminos necesarios para cumplir con el porcentaje\n",
    "        if diferencia < valor_error:  \n",
    "             #Si esta condicion se cumple se para el ciclo while\n",
    "            break\n",
    "        #Si es la diferencia es mayor al valor de error se aumenta 1 en el numeros de terminos \n",
    "        num_terminos +=1\n",
    "    return num_terminos\n",
    "\n",
    "\n",
    " #Funcion principal\n",
    "if __name__ == \"__main__\":\n",
    "    #Se ingresan los valores por teclado\n",
    "    x = float (input(\"Ingrese un valor real en el rango de [-1, 1]: \"))\n",
    "    num = int (input(\"Ingrese un numero de terminos hasta donde quiere que vaya la serie: \"))\n",
    "    #Se inicizan variables siendo igual a las retornadas por la funcion\n",
    "    #Se ejecutan las funciones de acuerdo a los valores ingresados por consola\n",
    "    sumatoria, diferencia = serie_maclaurin (x,num)\n",
    "    num_terminos = error (x)\n",
    "    print (f\"La aproximacion de la funcion arcotangente es: {sumatoria}\")\n",
    "    print (f\"El valor real es: {atan(x)}\")\n",
    "    print(f\"La diferencia entre el valor real y la aproximacion  de maclaurin en la funcion de ArcoTangete es: {diferencia}\")\n",
    "    print(f\"Se necesitan {num_terminos} para que el porcentaje sera menos al 0.1%\")\n",
    "   "
   ]
  }
 ],
 "metadata": {
  "kernelspec": {
   "display_name": "Python 3",
   "language": "python",
   "name": "python3"
  },
  "language_info": {
   "codemirror_mode": {
    "name": "ipython",
    "version": 3
   },
   "file_extension": ".py",
   "mimetype": "text/x-python",
   "name": "python",
   "nbconvert_exporter": "python",
   "pygments_lexer": "ipython3",
   "version": "3.12.2"
  }
 },
 "nbformat": 4,
 "nbformat_minor": 2
}
